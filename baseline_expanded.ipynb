{
 "cells": [
  {
   "cell_type": "markdown",
   "metadata": {},
   "source": [
    "# Expanded Baseline Model\n",
    "\n",
    "In order to more thoroughly test the baseline model, a single node decision tree, I will train it using a simple heuristic in order to find an ideal discrimination threshold and then test the threshold on a test set."
   ]
  },
  {
   "cell_type": "markdown",
   "metadata": {},
   "source": [
    "## Function Definitions and Imports"
   ]
  },
  {
   "cell_type": "code",
   "execution_count": 1,
   "metadata": {},
   "outputs": [],
   "source": [
    "import json\n",
    "\n",
    "# Default threshold function\n",
    "def get_f1(thresh, term_freqs, solution):\n",
    "    # Predict\n",
    "    predictions = {}\n",
    "    for doc in term_freqs.keys():\n",
    "        predictions[doc] = [key for key, val in term_freqs[doc].items() if val > thresh]\n",
    "        \n",
    "    # Get evaluation metrics\n",
    "    true_pos = 0\n",
    "    false_pos = 0\n",
    "    false_neg = 0\n",
    "    \n",
    "    for pmid in predictions:\n",
    "        true_pos += len([pred for pred in predictions[pmid] if pred in solution[pmid]])\n",
    "        false_pos += len([pred for pred in predictions[pmid] if pred not in solution[pmid]])\n",
    "        false_neg += len([sol for sol in solution[pmid] if sol not in predictions[pmid]])\n",
    "\n",
    "    if true_pos == 0:\n",
    "        precision = 0\n",
    "        recall = 0\n",
    "        f1 = 0\n",
    "    else:\n",
    "        precision = true_pos / (true_pos + false_pos)\n",
    "        recall = true_pos / (true_pos + false_neg)\n",
    "        f1 = (2 * precision * recall) / (precision + recall)\n",
    "    \n",
    "    return f1\n",
    "\n",
    "def train(term_freqs, solution):\n",
    "    curr_thresh = 0.0\n",
    "    step_val = 0.001\n",
    "    f1s = []\n",
    "    \n",
    "    f1s.append(get_f1(curr_thresh, term_freqs, solution))\n",
    "    f1s.append(get_f1(curr_thresh + step_val, term_freqs, solution))\n",
    "    \n",
    "    curr_thresh += step_val\n",
    "    next_thresh_f1 = get_f1(curr_thresh + step_val, term_freqs, solution)\n",
    "    \n",
    "    while not (next_thresh_f1 < f1s[-1] and next_thresh_f1 < f1s[-2] and f1s[-1] < f1s[-2]):\n",
    "        curr_thresh += step_val\n",
    "        f1s.append(get_f1(curr_thresh, term_freqs, solution))\n",
    "        next_thresh_f1 = get_f1(curr_thresh + step_val, term_freqs, solution)\n",
    "    \n",
    "    return curr_thresh - step_val\n",
    "\n",
    "def predict(test_freqs, thresh):\n",
    "    # Test it out\n",
    "    predictions = {}\n",
    "\n",
    "    # Predict\n",
    "    for doc in test_freqs.keys():\n",
    "        predictions[doc] = [key for key, val in test_freqs[doc].items() if val > thresh]\n",
    "    \n",
    "    return predictions"
   ]
  },
  {
   "cell_type": "code",
   "execution_count": 2,
   "metadata": {},
   "outputs": [],
   "source": [
    "# Load in term frequencies and partition\n",
    "with open(\"./data/term_freqs_rev_3_all_terms.json\", \"r\") as handle:\n",
    "    temp = json.load(handle)\n",
    "\n",
    "docs_list = list(temp.keys())\n",
    "partition = int(len(docs_list) * .8)\n",
    "\n",
    "train_docs = docs_list[0:partition]\n",
    "test_docs = docs_list[partition:]\n",
    "\n",
    "# Load in solution values\n",
    "solution = {}\n",
    "docs_list = set(docs_list)\n",
    "with open(\"./data/pm_doc_term_counts.csv\", \"r\") as handle:\n",
    "    for line in handle:\n",
    "        line = line.strip(\"\\n\").split(\",\")\n",
    "        if line[0] in docs_list:\n",
    "            # Only use samples indexed with MeSH terms\n",
    "            terms = [term for term in line[1:] if term]\n",
    "            if terms:\n",
    "                solution[line[0]] = terms\n",
    "                \n",
    "# Build training/test data, ensure good solution data is available\n",
    "# Solution data is not always available because documents may not be\n",
    "# indexed - even though obviously some of their references have been indexed\n",
    "train_freqs = {}\n",
    "for doc in train_docs:\n",
    "    if doc in solution.keys():\n",
    "        train_freqs[doc] = temp[doc]\n",
    "\n",
    "test_freqs = {}\n",
    "for doc in test_docs:\n",
    "    if doc in solution.keys():\n",
    "        test_freqs[doc] = temp[doc]  "
   ]
  },
  {
   "cell_type": "code",
   "execution_count": 3,
   "metadata": {},
   "outputs": [],
   "source": [
    "# Load in MeSH data\n",
    "term_names = {}\n",
    "mean_term_depths = {}\n",
    "with open(\"./data/mesh_data.tab\", \"r\") as handle:\n",
    "    for line in handle:\n",
    "        line = line.strip(\"\\n\").split(\"\\t\")\n",
    "        term_names[line[0]] = line[1]\n",
    "        mean_depth = 0\n",
    "        posits = [len(posit.split(\".\")) for posit in line[4].split(\",\")]\n",
    "        mean_term_depths[line[0]] = sum(posits) / len(posits)\n",
    "            \n",
    "uids = list(term_names.keys())"
   ]
  },
  {
   "cell_type": "code",
   "execution_count": 6,
   "metadata": {},
   "outputs": [
    {
     "name": "stdout",
     "output_type": "stream",
     "text": [
      "Micro-averaged F1 from test set: 0.4653554867124998\n",
      "Micro-averaged precision from test set: 0.4835427147497974\n",
      "Micro-averaged recall from test set: 0.44848679773565053\n",
      "\n",
      "Macro-averaged F1 from test set: 0.2707060659683809\n",
      "Macro-averaged precision from test set: 0.3435499654320987\n",
      "Macro-averaged recall from test set: 0.2610917648722886\n",
      "\n",
      "Example-based F1 from test set: 0.45872013278246604\n",
      "Example-based precision from test set: 0.5098678216699748\n",
      "Example-based recall from test set: 0.47528414518345835\n",
      "\n"
     ]
    }
   ],
   "source": [
    "thresh = train(train_freqs, solution)\n",
    "print(f\"Learned discrimination threshold: {thresh}\\n\")\n",
    "\n",
    "preds = predict(test_freqs, thresh)\n",
    "\n",
    "true_pos = 0\n",
    "false_pos = 0\n",
    "false_neg = 0\n",
    "\n",
    "for pmid in preds:\n",
    "    true_pos += len([pred for pred in preds[pmid] if pred in solution[pmid]])\n",
    "    false_pos += len([pred for pred in preds[pmid] if pred not in solution[pmid]])\n",
    "    false_neg += len([sol for sol in solution[pmid] if sol not in preds[pmid]])\n",
    "\n",
    "if true_pos == 0:\n",
    "    mi_precision = 0\n",
    "    mi_recall = 0\n",
    "    mi_f1 = 0\n",
    "else:\n",
    "    mi_precision = true_pos / (true_pos + false_pos)\n",
    "    mi_recall = true_pos / (true_pos + false_neg)\n",
    "    mi_f1 = (2 * mi_precision * mi_recall) / (mi_precision + mi_recall)\n",
    "\n",
    "print(f\"Micro-averaged F1 from test set: {mi_f1}\")\n",
    "print(f\"Micro-averaged precision from test set: {mi_precision}\")\n",
    "print(f\"Micro-averaged recall from test set: {mi_recall}\\n\")\n",
    "\n",
    "ma_ps = []\n",
    "ma_rs = []\n",
    "ma_f1s = []\n",
    "\n",
    "for uid in uids:\n",
    "    true_pos = 0\n",
    "    false_pos = 0\n",
    "    false_neg = 0\n",
    "    \n",
    "    for pmid in preds:\n",
    "        if uid in preds[pmid] and uid in solution[pmid]:\n",
    "            true_pos += 1\n",
    "        if uid in preds[pmid] and uid not in solution[pmid]:\n",
    "            false_pos += 1\n",
    "        if uid in solution[pmid] and uid not in preds[pmid]:\n",
    "            false_neg += 1\n",
    "    \n",
    "    if true_pos == 0:\n",
    "        ma_precision = 0\n",
    "        ma_recall = 0\n",
    "        ma_f1 = 0\n",
    "    else:\n",
    "        ma_precision = true_pos / (true_pos + false_pos)\n",
    "        ma_recall = true_pos / (true_pos + false_neg)\n",
    "        ma_f1 = (2 * ma_precision * ma_recall) / (ma_precision + ma_recall)\n",
    "\n",
    "    if true_pos + false_pos + false_neg > 0:\n",
    "        ma_ps.append(ma_precision)\n",
    "        ma_rs.append(ma_recall)\n",
    "        ma_f1s.append(ma_f1)\n",
    "\n",
    "ma_f1 = sum(ma_f1s) / len(ma_f1s)\n",
    "ma_recall = sum(ma_rs) / len(ma_rs)\n",
    "ma_precision = sum(ma_ps) / len(ma_ps)\n",
    "\n",
    "print(f\"Macro-averaged F1 from test set: {ma_f1}\")\n",
    "print(f\"Macro-averaged precision from test set: {ma_precision}\")\n",
    "print(f\"Macro-averaged recall from test set: {ma_recall}\\n\")\n",
    "\n",
    "eb_ps = []\n",
    "eb_rs = []\n",
    "eb_f1s = []\n",
    "\n",
    "for pmid in preds:\n",
    "    true_pos = len([pred for pred in preds[pmid] if pred in solution[pmid]])\n",
    "    false_pos = len([pred for pred in preds[pmid] if pred not in solution[pmid]])\n",
    "    false_neg = len([sol for sol in solution[pmid] if sol not in preds[pmid]])\n",
    "\n",
    "    if true_pos == 0:\n",
    "        eb_precision = 0\n",
    "        eb_recall = 0\n",
    "        eb_f1 = 0\n",
    "    else:\n",
    "        eb_precision = true_pos / (true_pos + false_pos)\n",
    "        eb_recall = true_pos / (true_pos + false_neg)\n",
    "        eb_f1 = (2 * eb_precision * eb_recall) / (eb_precision + eb_recall)\n",
    "\n",
    "    eb_ps.append(eb_precision)\n",
    "    eb_rs.append(eb_recall)\n",
    "    eb_f1s.append(eb_f1)\n",
    "\n",
    "eb_f1 = sum(eb_f1s) / len(eb_f1s)\n",
    "eb_recall = sum(eb_rs) / len(eb_rs)\n",
    "eb_precision = sum(eb_ps) / len(eb_ps)\n",
    "\n",
    "print(f\"Example-based F1 from test set: {eb_f1}\")\n",
    "print(f\"Example-based precision from test set: {eb_precision}\")\n",
    "print(f\"Example-based recall from test set: {eb_recall}\\n\")"
   ]
  },
  {
   "cell_type": "markdown",
   "metadata": {},
   "source": [
    "I'm also curious about what some of these results look like, so I'm going to modify the predict function in order to record the F1s for each sample (example-based F1), and separately the F1s for each sample with more than 20 MeSH terms applied to all of its citations."
   ]
  },
  {
   "cell_type": "code",
   "execution_count": 6,
   "metadata": {},
   "outputs": [],
   "source": [
    "def predict(test_freqs, thresh, solution):\n",
    "    predictions = {}\n",
    "    f1s = {}\n",
    "    f1s_all = {}\n",
    "    \n",
    "    # Predict\n",
    "    for doc in test_freqs.keys():\n",
    "        predictions[doc] = [key for key, val in test_freqs[doc].items() if val > thresh]\n",
    "\n",
    "    for pmid in predictions:\n",
    "        true_pos = len([pred for pred in predictions[pmid] if pred in solution[pmid]])\n",
    "        false_pos = len([pred for pred in predictions[pmid] if pred not in solution[pmid]])\n",
    "        false_neg = len([sol for sol in solution[pmid] if sol not in predictions[pmid]])\n",
    "\n",
    "        if true_pos == 0:\n",
    "            precision = 0\n",
    "            recall = 0\n",
    "            f1 = 0\n",
    "        else:\n",
    "            precision = true_pos / (true_pos + false_pos)\n",
    "            recall = true_pos / (true_pos + false_neg)\n",
    "            f1 = (2 * precision * recall) / (precision + recall)\n",
    "        if len(predictions[pmid]) > 20:\n",
    "            f1s[pmid] = f1\n",
    "            \n",
    "        f1s_all[pmid] = f1\n",
    "        \n",
    "    return f1s, f1s_all, predictions\n",
    "        \n",
    "f1s, f1s_all, predictions = predict(test_freqs, 0.016, solution)"
   ]
  },
  {
   "cell_type": "code",
   "execution_count": 26,
   "metadata": {},
   "outputs": [
    {
     "name": "stdout",
     "output_type": "stream",
     "text": [
      "Maximum F1: 0.9500000000000001\n",
      "Minimum F1: 0, found for 8 PMIDs\n"
     ]
    }
   ],
   "source": [
    "max_f1 = max(f1s.values())\n",
    "min_f1 = min(f1s.values())\n",
    "\n",
    "sorted_f1s = sorted([[key, val] for key, val in f1s.items()], key=lambda item: item[1], reverse=True)\n",
    "max_pmids = sorted_f1s[0:10]\n",
    "med_pmids = [samp for samp in sorted_f1s if samp[1] > 0.44 and samp[1] < 0.46][0:15]\n",
    "min_pmids = [key for key, value in f1s.items() if value == min_f1]\n",
    "\n",
    "print(f\"Maximum F1: {max_f1}\")\n",
    "print(f\"Minimum F1: {min_f1}, found for {len(min_pmids)} PMIDs\")"
   ]
  },
  {
   "cell_type": "markdown",
   "metadata": {},
   "source": [
    "Let's look at the predictions and solutions for the best scoring samples."
   ]
  },
  {
   "cell_type": "code",
   "execution_count": 9,
   "metadata": {},
   "outputs": [
    {
     "name": "stdout",
     "output_type": "stream",
     "text": [
      "F1 score for 23314745: 0.9500000000000001\n",
      "Predicted terms (21) for PMID 23314745: \n",
      "Adolescent; Adult; Antiviral Agents; Child; Child, Preschool; Drug Therapy, Combination; Female; Genotype; Hepacivirus; Hepatitis C, Chronic; Humans; Interferon alpha-2; Interferon-alpha; Interleukins; Male; Polyethylene Glycols; Polymorphism, Single Nucleotide; Recombinant Proteins; Ribavirin; Treatment Outcome; Viral Load\n",
      "\n",
      "Actual terms (19) applied to PMID 23314745: \n",
      "Adolescent; Antiviral Agents; Child; Child, Preschool; Drug Therapy, Combination; Female; Genotype; Hepacivirus; Hepatitis C, Chronic; Humans; Interferon-alpha; Interleukins; Male; Polyethylene Glycols; Polymorphism, Single Nucleotide; Recombinant Proteins; Ribavirin; Treatment Outcome; Viral Load\n",
      "\n",
      "Number of MeSH terms applied to all of 23314745's references: 98\n",
      "\n",
      "F1 score for 28789709: 0.8571428571428571\n",
      "Predicted terms (21) for PMID 28789709: \n",
      "Adult; Aged; Aged, 80 and over; Antineoplastic Agents; Carcinoma, Renal Cell; Disease-Free Survival; Female; Humans; Indoles; Kidney Neoplasms; Male; Middle Aged; Niacinamide; Phenylurea Compounds; Prognosis; Protein Kinase Inhibitors; Pyrroles; Quality of Life; Sorafenib; Sunitinib; Treatment Outcome\n",
      "\n",
      "Actual terms (21) applied to PMID 28789709: \n",
      "Adult; Aged; Aged, 80 and over; Carcinoma, Renal Cell; China; Disease-Free Survival; Drug-Related Side Effects and Adverse Reactions; Female; Humans; Indoles; Male; Middle Aged; Neoplasm Metastasis; Niacinamide; Phenylurea Compounds; Protein Kinase Inhibitors; Pyrroles; Quality of Life; Sorafenib; Sunitinib; Treatment Outcome\n",
      "\n",
      "Number of MeSH terms applied to all of 28789709's references: 106\n"
     ]
    }
   ],
   "source": [
    "max_preds = \"; \".join(sorted([term_names[pred] for pred in predictions[max_pmids[0][0]]]))\n",
    "max_sol = \"; \".join(sorted(list(dict.fromkeys([term_names[sol] for sol in solution[max_pmids[0][0]]]))))\n",
    "print(f\"F1 score for {max_pmids[0][0]}: {f1s[max_pmids[0][0]]}\")\n",
    "print(f\"Predicted terms ({len(predictions[max_pmids[0][0]])}) for PMID {max_pmids[0][0]}: \\n{max_preds}\")\n",
    "print(f\"\\nActual terms ({len(solution[max_pmids[0][0]])}) applied to PMID {max_pmids[0][0]}: \\n{max_sol}\")\n",
    "print(f\"\\nNumber of MeSH terms applied to all of {max_pmids[0][0]}'s references: {len(test_freqs[max_pmids[0][0]].keys())}\\n\")\n",
    "\n",
    "max_preds = \"; \".join(sorted([term_names[pred] for pred in predictions[max_pmids[1][0]]]))\n",
    "max_sol = \"; \".join(sorted([term_names[sol] for sol in solution[max_pmids[1][0]]]))\n",
    "print(f\"F1 score for {max_pmids[1][0]}: {f1s[max_pmids[1][0]]}\")\n",
    "print(f\"Predicted terms ({len(predictions[max_pmids[1][0]])}) for PMID {max_pmids[1][0]}: \\n{max_preds}\")\n",
    "print(f\"\\nActual terms ({len(solution[max_pmids[1][0]])}) applied to PMID {max_pmids[1][0]}: \\n{max_sol}\")\n",
    "print(f\"\\nNumber of MeSH terms applied to all of {max_pmids[1][0]}'s references: {len(test_freqs[max_pmids[1][0]].keys())}\")"
   ]
  },
  {
   "cell_type": "markdown",
   "metadata": {},
   "source": [
    "This is pretty good. 23314745 had 98 terms applied to all and 21 were selected for prediction based on their relative frequency being greater than the discrimination threshold. However, samples like this are bound to occur when evaluating this much data.\n",
    "\n",
    "Let's also take a look at a couple of the worst predictions."
   ]
  },
  {
   "cell_type": "code",
   "execution_count": 13,
   "metadata": {},
   "outputs": [
    {
     "name": "stdout",
     "output_type": "stream",
     "text": [
      "F1 score for 27418923: 0\n",
      "Predicted terms (21)for PMID 27418923: \n",
      "Animals; Communicable Diseases; Disease Transmission, Infectious; Disease Vectors; History, 15th Century; History, 16th Century; History, 17th Century; History, 18th Century; History, 19th Century; History, 20th Century; History, 21st Century; Humans; Transportation; Animal Diseases; Anura; Chytridiomycota; Climate; Demography; Extinction, Biological; Population Dynamics; Artificial Intelligence\n",
      "\n",
      "Actual terms applied to PMID 27418923: \n",
      "Algorithms; Databases, Factual; Image Processing, Computer-Assisted; Neural Networks (Computer); Plant Diseases; Plant Leaves; Reproducibility of Results\n",
      "\n",
      "Number of MeSH terms applied to all of 27418923's references: 21\n",
      "\n",
      "F1 score for 23721330: 0\n",
      "Predicted terms (24) for PMID 23721330: \n",
      "Dental Models; Humans; Imaging, Three-Dimensional; Reproducibility of Results; Analysis of Variance; Cephalometry; Computer-Aided Design; Image Processing, Computer-Assisted; Malocclusion; Observer Variation; Odontometry; Software; Computer Simulation; Dental Arch; Diagnosis, Computer-Assisted; Calibration; Computer Graphics; Lasers; Statistics, Nonparametric; Surface Properties; Tooth; User-Computer Interface; Calcium Sulfate; Feasibility Studies\n",
      "\n",
      "Actual terms applied to PMID 23721330: \n",
      "Casts, Surgical; Dentistry; Models, Anatomic; Printing\n",
      "\n",
      "Number of MeSH terms applied to all of 23721330's references: 45\n"
     ]
    }
   ],
   "source": [
    "curr_pmid = min_pmids[7]\n",
    "min_preds = \"; \".join([term_names[pred] for pred in predictions[curr_pmid]])\n",
    "min_sol = \"; \".join([term_names[sol] for sol in solution[curr_pmid]])\n",
    "print(f\"F1 score for {curr_pmid}: {f1s[curr_pmid]}\")\n",
    "print(f\"Predicted terms ({len(predictions[curr_pmid])})for PMID {curr_pmid}: \\n{min_preds}\")\n",
    "print(f\"\\nActual terms applied to PMID {curr_pmid}: \\n{min_sol}\")\n",
    "print(f\"\\nNumber of MeSH terms applied to all of {curr_pmid}'s references: {len(test_freqs[curr_pmid].keys())}\")\n",
    "\n",
    "min_preds = \"; \".join([term_names[pred] for pred in predictions[min_pmids[1]]])\n",
    "min_sol = \"; \".join([term_names[sol] for sol in solution[min_pmids[1]]])\n",
    "print(f\"\\nF1 score for {min_pmids[1]}: {f1s[min_pmids[1]]}\")\n",
    "print(f\"Predicted terms ({len(predictions[min_pmids[1]])}) for PMID {min_pmids[1]}: \\n{min_preds}\")\n",
    "print(f\"\\nActual terms applied to PMID {min_pmids[1]}: \\n{min_sol}\")\n",
    "print(f\"\\nNumber of MeSH terms applied to all of {min_pmids[1]}'s references: {len(test_freqs[min_pmids[1]].keys())}\")"
   ]
  },
  {
   "cell_type": "markdown",
   "metadata": {},
   "source": [
    "And a couple of the average predictions:"
   ]
  },
  {
   "cell_type": "code",
   "execution_count": 33,
   "metadata": {},
   "outputs": [
    {
     "name": "stdout",
     "output_type": "stream",
     "text": [
      "F1 score for 28794382: 0.4571428571428572\n",
      "Predicted terms (22) for PMID 28794382: \n",
      "Adult; Aged; Aged, 80 and over; Anticoagulants; Female; Fibrinolytic Agents; Hemorrhage; Humans; Male; Middle Aged; Nephrotic Syndrome; Renal Veins; Risk Assessment; Risk Factors; Thromboembolism; Thrombolytic Therapy; Time Factors; Treatment Outcome; Venous Thromboembolism; Venous Thrombosis; Warfarin; Young Adult\n",
      "\n",
      "Actual terms (13) applied to PMID 28794382: \n",
      "Adult; Factor Xa Inhibitors; Heparin; Humans; Male; Nephrotic Syndrome; Pulmonary Embolism; Pyridines; Renal Veins; Thiazoles; Treatment Outcome; Venous Thrombosis; Warfarin\n",
      "\n",
      "Number of MeSH terms applied to all of 28794382's references: 63\n",
      "\n",
      "F1 score for 25055742: 0.4571428571428572\n",
      "Predicted terms (24) for PMID 25055742: \n",
      "Alleles; Animals; Computational Biology; DNA Copy Number Variations; Databases, Genetic; Evolution, Molecular; Exome; Genetic Association Studies; Genetic Variation; Genome; Genome, Human; Genome-Wide Association Study; Genomics; Genotype; Humans; Information Storage and Retrieval; Mice; Mutation; Neoplasms; Phenotype; Polymorphism, Single Nucleotide; Sequence Alignment; Sequence Analysis, DNA; Software\n",
      "\n",
      "Actual terms (11) applied to PMID 25055742: \n",
      "Databases, Genetic; Exome; Genome, Human; High-Throughput Nucleotide Sequencing; Humans; Internet; Phenotype; Polymorphism, Single Nucleotide; Sequence Analysis, DNA; Software; User-Computer Interface\n",
      "\n",
      "Number of MeSH terms applied to all of 25055742's references: 70\n"
     ]
    }
   ],
   "source": [
    "curr_pmid = med_pmids[8][0]\n",
    "med_preds = \"; \".join(sorted([term_names[pred] for pred in predictions[curr_pmid]]))\n",
    "med_sol = \"; \".join(sorted(list(dict.fromkeys([term_names[sol] for sol in solution[curr_pmid]]))))\n",
    "print(f\"F1 score for {curr_pmid}: {f1s[curr_pmid]}\")\n",
    "print(f\"Predicted terms ({len(predictions[curr_pmid])}) for PMID {curr_pmid}: \\n{med_preds}\")\n",
    "print(f\"\\nActual terms ({len(solution[curr_pmid])}) applied to PMID {curr_pmid}: \\n{med_sol}\")\n",
    "print(f\"\\nNumber of MeSH terms applied to all of {curr_pmid}'s references: {len(test_freqs[curr_pmid].keys())}\\n\")\n",
    "\n",
    "med_preds = \"; \".join(sorted([term_names[pred] for pred in predictions[med_pmids[1][0]]]))\n",
    "med_sol = \"; \".join(sorted([term_names[sol] for sol in solution[med_pmids[1][0]]]))\n",
    "print(f\"F1 score for {med_pmids[1][0]}: {f1s[med_pmids[1][0]]}\")\n",
    "print(f\"Predicted terms ({len(predictions[med_pmids[1][0]])}) for PMID {med_pmids[1][0]}: \\n{med_preds}\")\n",
    "print(f\"\\nActual terms ({len(solution[med_pmids[1][0]])}) applied to PMID {med_pmids[1][0]}: \\n{med_sol}\")\n",
    "print(f\"\\nNumber of MeSH terms applied to all of {med_pmids[1][0]}'s references: {len(test_freqs[med_pmids[1][0]].keys())}\")"
   ]
  },
  {
   "cell_type": "code",
   "execution_count": 47,
   "metadata": {},
   "outputs": [
    {
     "data": {
      "text/plain": [
       "[Text(0, 0.5, 'Frequency'), Text(0.5, 0, 'F1 Score')]"
      ]
     },
     "execution_count": 47,
     "metadata": {},
     "output_type": "execute_result"
    },
    {
     "data": {
      "image/png": "[encoded data removed]",
      "text/plain": [
       "<Figure size 432x288 with 1 Axes>"
      ]
     },
     "metadata": {
      "needs_background": "light"
     },
     "output_type": "display_data"
    }
   ],
   "source": [
    "import seaborn as sns\n",
    "import numpy as np\n",
    "\n",
    "f1_vals = np.array(list(f1s_all.values()))\n",
    "ax = sns.distplot(f1_vals)\n",
    "ax.set(xlabel=\"F1 Score\", ylabel=\"Frequency\")"
   ]
  },
  {
   "cell_type": "markdown",
   "metadata": {},
   "source": [
    "The distribution of F1 scores for samples in the test set. "
   ]
  },
  {
   "cell_type": "code",
   "execution_count": 43,
   "metadata": {},
   "outputs": [
    {
     "data": {
      "text/plain": [
       "<matplotlib.axes._subplots.AxesSubplot at 0x7f5e4d063c18>"
      ]
     },
     "execution_count": 43,
     "metadata": {},
     "output_type": "execute_result"
    },
    {
     "data": {
      "image/png": "[encoded data removed]",
      "text/plain": [
       "<Figure size 432x288 with 1 Axes>"
      ]
     },
     "metadata": {
      "needs_background": "light"
     },
     "output_type": "display_data"
    }
   ],
   "source": [
    "import seaborn as sns\n",
    "from numpy import median\n",
    "\n",
    "y_f1s = []\n",
    "x_med_depth = []\n",
    "for sample in f1s_all:\n",
    "    y_f1s.append(f1s_all[sample])\n",
    "    depths = [mean_term_depths[uid] for uid in solution[sample]]\n",
    "    #x_med_depth.append(sum(depths) / len(depths))\n",
    "    x_med_depth.append(median(depths))\n",
    "\n",
    "sns.scatterplot(x=x_med_depth, y=y_f1s)"
   ]
  },
  {
   "cell_type": "markdown",
   "metadata": {},
   "source": [
    "I'm also interested in which terms have been classified corrrectly and incorrectly, so I'm going to modify the predict function again to track this."
   ]
  },
  {
   "cell_type": "code",
   "execution_count": 38,
   "metadata": {},
   "outputs": [],
   "source": [
    "def predict(test_freqs, thresh, solution):\n",
    "    predictions = {}\n",
    "    f1s = {}\n",
    "    f1s_all = {}\n",
    "    \n",
    "    true_pos = []\n",
    "    false_pos = []\n",
    "    false_neg = []\n",
    "    \n",
    "    # Predict\n",
    "    for doc in test_freqs.keys():\n",
    "        predictions[doc] = [key for key, val in test_freqs[doc].items() if val > thresh]\n",
    "\n",
    "    for pmid in predictions:\n",
    "        true_pos.extend([pred for pred in predictions[pmid] if pred in solution[pmid]])\n",
    "        false_pos.extend([pred for pred in predictions[pmid] if pred not in solution[pmid]])\n",
    "        false_neg.extend([sol for sol in solution[pmid] if sol not in predictions[pmid]])\n",
    "        \n",
    "    return true_pos, false_pos, false_neg\n",
    "\n",
    "true_pos, false_pos, false_neg = predict(test_freqs, 0.016, solution)"
   ]
  },
  {
   "cell_type": "code",
   "execution_count": 40,
   "metadata": {},
   "outputs": [
    {
     "name": "stdout",
     "output_type": "stream",
     "text": [
      "Most frequent true positive terms and their counts: \n",
      "Humans - 42759\n",
      "Female - 22519\n",
      "Male - 20879\n",
      "Animals - 17463\n",
      "Middle Aged - 12379\n",
      "Adult - 11683\n",
      "Aged - 8478\n",
      "Mice - 5836\n",
      "Adolescent - 3145\n",
      "Child - 2199\n"
     ]
    },
    {
     "data": {
      "text/plain": [
       "<matplotlib.axes._subplots.AxesSubplot at 0x7f5e4d03a6a0>"
      ]
     },
     "execution_count": 40,
     "metadata": {},
     "output_type": "execute_result"
    },
    {
     "data": {
      "image/png": "[encoded data removed]",
      "text/plain": [
       "<Figure size 432x288 with 1 Axes>"
      ]
     },
     "metadata": {
      "needs_background": "light"
     },
     "output_type": "display_data"
    }
   ],
   "source": [
    "from collections import Counter\n",
    "\n",
    "true_pos = Counter(true_pos)\n",
    "true_pos_counts = [[key, val] for key, val in true_pos.items()]\n",
    "true_pos_counts = sorted(true_pos_counts, key=lambda true_pos_counts: true_pos_counts[1], reverse=True)\n",
    "print(\"Most frequent true positive terms and their counts: \")\n",
    "for item in true_pos_counts[0:10]:\n",
    "    print(f\"{term_names[item[0]]} - {item[1]}\")\n",
    "\n",
    "y = []\n",
    "x = []\n",
    "for item in true_pos_counts:\n",
    "    x.append(mean_term_depths[item[0]])\n",
    "    y.append(item[1])\n",
    "    \n",
    "sns.scatterplot(x=x, y=y)"
   ]
  },
  {
   "cell_type": "code",
   "execution_count": 41,
   "metadata": {},
   "outputs": [
    {
     "name": "stdout",
     "output_type": "stream",
     "text": [
      "Most frequent false positive terms and their counts: \n",
      "Male - 12887\n",
      "Animals - 12820\n",
      "Female - 12743\n",
      "Adult - 11732\n",
      "Humans - 11000\n",
      "Middle Aged - 9665\n",
      "Aged - 8247\n",
      "Molecular Sequence Data - 6485\n",
      "Mice - 6080\n",
      "Adolescent - 4584\n"
     ]
    },
    {
     "data": {
      "text/plain": [
       "<matplotlib.axes._subplots.AxesSubplot at 0x7f5e4c276208>"
      ]
     },
     "execution_count": 41,
     "metadata": {},
     "output_type": "execute_result"
    },
    {
     "data": {
      "image/png": "[encoded data removed]",
      "text/plain": [
       "<Figure size 432x288 with 1 Axes>"
      ]
     },
     "metadata": {
      "needs_background": "light"
     },
     "output_type": "display_data"
    }
   ],
   "source": [
    "false_pos = Counter(false_pos)\n",
    "false_pos_counts = [[key, val] for key, val in false_pos.items()]\n",
    "false_pos_counts = sorted(false_pos_counts, key=lambda false_pos_counts: false_pos_counts[1], reverse=True)\n",
    "false_pos_counts[:10]\n",
    "print(\"Most frequent false positive terms and their counts: \")\n",
    "for item in false_pos_counts[0:10]:\n",
    "    print(f\"{term_names[item[0]]} - {item[1]}\")\n",
    "    \n",
    "y = []\n",
    "x = []\n",
    "for item in false_pos_counts:\n",
    "    x.append(mean_term_depths[item[0]])\n",
    "    y.append(item[1])\n",
    "    \n",
    "sns.scatterplot(x=x, y=y)"
   ]
  },
  {
   "cell_type": "code",
   "execution_count": 42,
   "metadata": {},
   "outputs": [
    {
     "name": "stdout",
     "output_type": "stream",
     "text": [
      "Most frequent false negative terms and their counts: \n",
      "Young Adult - 4240\n",
      "Time Factors - 2451\n",
      "Aged, 80 and over - 2296\n",
      "Female - 2009\n",
      "Treatment Outcome - 1956\n",
      "Aged - 1938\n",
      "Adolescent - 1924\n",
      "Retrospective Studies - 1912\n",
      "Male - 1880\n",
      "Adult - 1835\n"
     ]
    },
    {
     "data": {
      "text/plain": [
       "<matplotlib.axes._subplots.AxesSubplot at 0x7f5e4c1d2fd0>"
      ]
     },
     "execution_count": 42,
     "metadata": {},
     "output_type": "execute_result"
    },
    {
     "data": {
      "image/png": "[encoded data removed]",
      "text/plain": [
       "<Figure size 432x288 with 1 Axes>"
      ]
     },
     "metadata": {
      "needs_background": "light"
     },
     "output_type": "display_data"
    }
   ],
   "source": [
    "false_neg = Counter(false_neg)\n",
    "false_neg_counts = [[key, val] for key, val in false_neg.items()]\n",
    "false_neg_counts = sorted(false_neg_counts, key=lambda false_neg_counts: false_neg_counts[1], reverse=True)\n",
    "false_neg_counts[:10]\n",
    "print(\"Most frequent false negative terms and their counts: \")\n",
    "for item in false_neg_counts[0:10]:\n",
    "    print(f\"{term_names[item[0]]} - {item[1]}\")\n",
    "    \n",
    "y = []\n",
    "x = []\n",
    "for item in false_neg_counts:\n",
    "    x.append(mean_term_depths[item[0]])\n",
    "    y.append(item[1])\n",
    "    \n",
    "sns.scatterplot(x=x, y=y)"
   ]
  },
  {
   "cell_type": "code",
   "execution_count": null,
   "metadata": {},
   "outputs": [],
   "source": []
  }
 ],
 "metadata": {
  "kernelspec": {
   "display_name": "Python 3",
   "language": "python",
   "name": "python3"
  },
  "language_info": {
   "codemirror_mode": {
    "name": "ipython",
    "version": 3
   },
   "file_extension": ".py",
   "mimetype": "text/x-python",
   "name": "python",
   "nbconvert_exporter": "python",
   "pygments_lexer": "ipython3",
   "version": "3.6.8"
  }
 },
 "nbformat": 4,
 "nbformat_minor": 2
}
