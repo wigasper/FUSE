{
 "cells": [
  {
   "cell_type": "markdown",
   "metadata": {},
   "source": [
    "# Expanded Baseline Model\n",
    "\n",
    "In order to more thoroughly test the baseline model, a single node decision tree, I will train it using a simple heuristic in order to find an ideal discrimination threshold and then test the threshold on a test set."
   ]
  },
  {
   "cell_type": "markdown",
   "metadata": {},
   "source": [
    "## Function Definitions and Imports"
   ]
  },
  {
   "cell_type": "code",
   "execution_count": 2,
   "metadata": {},
   "outputs": [],
   "source": [
    "import json\n",
    "\n",
    "# Default threshold function\n",
    "def get_f1(thresh, term_freqs, solution):\n",
    "    # Predict\n",
    "    predictions = {}\n",
    "    for doc in term_freqs.keys():\n",
    "        predictions[doc] = [key for key, val in term_freqs[doc].items() if val > thresh]\n",
    "        \n",
    "    # Get evaluation metrics\n",
    "    true_pos = 0\n",
    "    false_pos = 0\n",
    "    false_neg = 0\n",
    "    \n",
    "    for pmid in predictions:\n",
    "        true_pos += len([pred for pred in predictions[pmid] if pred in solution[pmid]])\n",
    "        false_pos += len([pred for pred in predictions[pmid] if pred not in solution[pmid]])\n",
    "        false_neg += len([sol for sol in solution[pmid] if sol not in predictions[pmid]])\n",
    "\n",
    "    if true_pos == 0:\n",
    "        precision = 0\n",
    "        recall = 0\n",
    "        f1 = 0\n",
    "    else:\n",
    "        precision = true_pos / (true_pos + false_pos)\n",
    "        recall = true_pos / (true_pos + false_neg)\n",
    "        f1 = (2 * precision * recall) / (precision + recall)\n",
    "    \n",
    "    return f1\n",
    "\n",
    "def train(term_freqs, solution):\n",
    "    curr_thresh = 0.0\n",
    "    step_val = 0.001\n",
    "    f1s = []\n",
    "    \n",
    "    f1s.append(get_f1(curr_thresh, term_freqs, solution))\n",
    "    f1s.append(get_f1(curr_thresh + step_val, term_freqs, solution))\n",
    "    \n",
    "    curr_thresh += step_val\n",
    "    next_thresh_f1 = get_f1(curr_thresh + step_val, term_freqs, solution)\n",
    "    \n",
    "    while not (next_thresh_f1 < f1s[-1] and next_thresh_f1 < f1s[-2] and f1s[-1] < f1s[-2]):\n",
    "        curr_thresh += step_val\n",
    "        f1s.append(get_f1(curr_thresh, term_freqs, solution))\n",
    "        next_thresh_f1 = get_f1(curr_thresh + step_val, term_freqs, solution)\n",
    "    \n",
    "    return curr_thresh - step_val\n",
    "\n",
    "def predict(test_freqs, thresh, solution):\n",
    "\n",
    "    # Test it out\n",
    "    predictions = {}\n",
    "            \n",
    "    # Predict\n",
    "    for doc in test_freqs.keys():\n",
    "        predictions[doc] = [key for key, val in test_freqs[doc].items() if val > thresh]\n",
    "    # Get evaluation metrics\n",
    "    true_pos = 0\n",
    "    false_pos = 0\n",
    "    false_neg = 0\n",
    "    \n",
    "    for pmid in predictions:\n",
    "        true_pos += len([pred for pred in predictions[pmid] if pred in solution[pmid]])\n",
    "        false_pos += len([pred for pred in predictions[pmid] if pred not in solution[pmid]])\n",
    "        false_neg += len([sol for sol in solution[pmid] if sol not in predictions[pmid]])\n",
    "\n",
    "    if true_pos == 0:\n",
    "        precision = 0\n",
    "        recall = 0\n",
    "        f1 = 0\n",
    "    else:\n",
    "        precision = true_pos / (true_pos + false_pos)\n",
    "        recall = true_pos / (true_pos + false_neg)\n",
    "        f1 = (2 * precision * recall) / (precision + recall)\n",
    "\n",
    "    return predictions, f1"
   ]
  },
  {
   "cell_type": "code",
   "execution_count": 3,
   "metadata": {},
   "outputs": [
    {
     "name": "stdout",
     "output_type": "stream",
     "text": [
      "Learned discrimination threshold: 0.016000000000000007\n",
      "Micro-averaged F1 from test set: 0.4653554867124998\n"
     ]
    }
   ],
   "source": [
    "# Load in term frequencies and partition\n",
    "with open(\"./data/term_freqs_rev_3_all_terms.json\", \"r\") as handle:\n",
    "    temp = json.load(handle)\n",
    "\n",
    "docs_list = list(temp.keys())\n",
    "partition = int(len(docs_list) * .8)\n",
    "\n",
    "train_docs = docs_list[0:partition]\n",
    "test_docs = docs_list[partition:]\n",
    "\n",
    "# Load in solution values\n",
    "solution = {}\n",
    "docs_list = set(docs_list)\n",
    "with open(\"./data/pm_doc_term_counts.csv\", \"r\") as handle:\n",
    "    for line in handle:\n",
    "        line = line.strip(\"\\n\").split(\",\")\n",
    "        if line[0] in docs_list:\n",
    "            # Only use samples indexed with MeSH terms\n",
    "            terms = [term for term in line[1:] if term]\n",
    "            if terms:\n",
    "                solution[line[0]] = terms\n",
    "\n",
    "# Build training/test data, ensure good solution data is available\n",
    "# Solution data is not always available because documents may not be\n",
    "# indexed - even though obviously some of their references have been indexed\n",
    "train_freqs = {}\n",
    "for doc in train_docs:\n",
    "    if doc in solution.keys():\n",
    "        train_freqs[doc] = temp[doc]\n",
    "\n",
    "test_freqs = {}\n",
    "for doc in test_docs:\n",
    "    if doc in solution.keys():\n",
    "        test_freqs[doc] = temp[doc]  \n",
    "\n",
    "thresh = train(train_freqs, solution)\n",
    "\n",
    "preds, f1 = predict(test_freqs, thresh, solution)\n",
    "\n",
    "print(f\"Learned discrimination threshold: {thresh}\")\n",
    "print(f\"Micro-averaged F1 from test set: {f1}\")"
   ]
  },
  {
   "cell_type": "markdown",
   "metadata": {},
   "source": [
    "I'm also curious about what some of these results look like, so I'm going to modify the predict function in order to record the F1s for each sample with more than 20 MeSH terms applied to all of its citations. I'm also going to load in a dictionary to convert MeSH UIDs to natural language."
   ]
  },
  {
   "cell_type": "code",
   "execution_count": 13,
   "metadata": {},
   "outputs": [],
   "source": [
    "def predict(test_freqs, thresh, solution):\n",
    "    predictions = {}\n",
    "    f1s = {}\n",
    "    \n",
    "    # Predict\n",
    "    for doc in test_freqs.keys():\n",
    "        predictions[doc] = [key for key, val in test_freqs[doc].items() if val > thresh]\n",
    "\n",
    "    for pmid in predictions:\n",
    "        true_pos = len([pred for pred in predictions[pmid] if pred in solution[pmid]])\n",
    "        false_pos = len([pred for pred in predictions[pmid] if pred not in solution[pmid]])\n",
    "        false_neg = len([sol for sol in solution[pmid] if sol not in predictions[pmid]])\n",
    "\n",
    "        if true_pos == 0:\n",
    "            precision = 0\n",
    "            recall = 0\n",
    "            f1 = 0\n",
    "        else:\n",
    "            precision = true_pos / (true_pos + false_pos)\n",
    "            recall = true_pos / (true_pos + false_neg)\n",
    "            f1 = (2 * precision * recall) / (precision + recall)\n",
    "        if len(predictions[pmid]) > 20:\n",
    "            f1s[pmid] = f1\n",
    "\n",
    "    return f1s, predictions\n",
    "\n",
    "term_names = {}\n",
    "with open(\"./data/mesh_data.tab\", \"r\") as handle:\n",
    "    for line in handle:\n",
    "        line = line.strip(\"\\n\").split(\"\\t\")\n",
    "        term_names[line[0]] = line[1]\n",
    "        \n",
    "f1s, predictions = predict(test_freqs, thresh, solution)"
   ]
  },
  {
   "cell_type": "code",
   "execution_count": null,
   "metadata": {},
   "outputs": [],
   "source": []
  },
  {
   "cell_type": "code",
   "execution_count": 23,
   "metadata": {},
   "outputs": [
    {
     "name": "stdout",
     "output_type": "stream",
     "text": [
      "Maximum F1: 0.9500000000000001, found for PMIDs: 1\n",
      "Minimum F1: 0, found for PMIDs: 8\n"
     ]
    }
   ],
   "source": [
    "max_f1 = max(f1s.values())\n",
    "min_f1 = min(f1s.values())\n",
    "\n",
    "max_pmids = [key for key, value in f1s.items() if value == max_f1]\n",
    "min_pmids = [key for key, value in f1s.items() if value == min_f1]\n",
    "\n",
    "print(f\"Maximum F1: {max_f1}, found for PMIDs: {len(max_pmids)}\")\n",
    "print(f\"Minimum F1: {min_f1}, found for PMIDs: {len(min_pmids)}\")"
   ]
  },
  {
   "cell_type": "markdown",
   "metadata": {},
   "source": [
    "Let's look at the predictions and solutions for the best scoring sample."
   ]
  },
  {
   "cell_type": "code",
   "execution_count": 33,
   "metadata": {},
   "outputs": [
    {
     "name": "stdout",
     "output_type": "stream",
     "text": [
      "Predicted 21 terms for PMID 23314745: \n",
      "Adolescent, Antiviral Agents, Child, Child, Preschool, Drug Therapy, Combination, Humans, Interferon alpha-2, Interferon-alpha, Polyethylene Glycols, Recombinant Proteins, Ribavirin, Adult, Female, Treatment Outcome, Genotype, Hepacivirus, Hepatitis C, Chronic, Male, Viral Load, Interleukins, Polymorphism, Single Nucleotide\n",
      "\n",
      "Actual terms (19) applied to PMID 23314745: \n",
      "Adolescent, Antiviral Agents, Child, Child, Preschool, Drug Therapy, Combination, Female, Genotype, Hepacivirus, Hepatitis C, Chronic, Humans, Interferon-alpha, Interleukins, Male, Polyethylene Glycols, Polymorphism, Single Nucleotide, Recombinant Proteins, Ribavirin, Treatment Outcome, Viral Load\n",
      "\n",
      "Number of MeSH terms applied to all of 23314745's references: 98\n"
     ]
    }
   ],
   "source": [
    "max_preds = \", \".join([term_names[pred] for pred in predictions[max_pmids[0]]])\n",
    "max_sol = \", \".join([term_names[sol] for sol in solution[max_pmids[0]]])\n",
    "print(f\"Predicted {len(predictions[max_pmids[0]])} terms for PMID {max_pmids[0]}: \\n{max_preds}\")\n",
    "print(f\"\\nActual terms ({len(solution[max_pmids[0]])}) applied to PMID {max_pmids[0]}: \\n{max_sol}\")\n",
    "print(f\"\\nNumber of MeSH terms applied to all of {max_pmids[0]}'s references: {len(test_freqs[max_pmids[0]].keys())}\")"
   ]
  },
  {
   "cell_type": "markdown",
   "metadata": {},
   "source": [
    "This is pretty good. 23314745 had 98 terms applied to all and 21 were selected for prediction based on their relative frequency being greater than the discrimination threshold. However, samples like this are bound to occur when evaluating this much data.\n",
    "\n",
    "Let's also take a look at the worst prediction."
   ]
  },
  {
   "cell_type": "code",
   "execution_count": 30,
   "metadata": {},
   "outputs": [
    {
     "name": "stdout",
     "output_type": "stream",
     "text": [
      "Predicted terms for PMID 21932250: \n",
      "Base Sequence, DNA Primers, Escherichia coli, Fermentation, Gene Deletion, Genetic Engineering, Genome, Bacterial, Molecular Sequence Data, Plasmids, Succinic Acid, Templates, Genetic, Anaerobiosis, Biosynthetic Pathways, Butylene Glycols, Glucose, Organisms, Genetically Modified, Alcohol Dehydrogenase, Aldehyde Reductase, Butanols, Cloning, Molecular, Escherichia coli Proteins, Fungal Proteins, Recombinant Proteins\n",
      "\n",
      "Actual terms applied to PMID 21932250: \n",
      "Biofuels, Biomass, Biotechnology, Industrial Microbiology, Metabolic Engineering, Synthetic Biology\n",
      "\n",
      "Number of MeSH terms applied to all of 21932250's references: 23\n"
     ]
    }
   ],
   "source": [
    "min_preds = \", \".join([term_names[pred] for pred in predictions[min_pmids[0]]])\n",
    "min_sol = \", \".join([term_names[sol] for sol in solution[min_pmids[0]]])\n",
    "print(f\"Predicted terms for PMID {min_pmids[0]}: \\n{min_preds}\")\n",
    "print(f\"\\nActual terms applied to PMID {min_pmids[0]}: \\n{min_sol}\")\n",
    "print(f\"\\nNumber of MeSH terms applied to all of {min_pmids[0]}'s references: {len(test_freqs[min_pmids[0]].keys())}\")"
   ]
  },
  {
   "cell_type": "code",
   "execution_count": 36,
   "metadata": {},
   "outputs": [
    {
     "name": "stderr",
     "output_type": "stream",
     "text": [
      "/home/wkg/anaconda3/lib/python3.6/site-packages/scipy/stats/stats.py:1713: FutureWarning: Using a non-tuple sequence for multidimensional indexing is deprecated; use `arr[tuple(seq)]` instead of `arr[seq]`. In the future this will be interpreted as an array index, `arr[np.array(seq)]`, which will result either in an error or a different result.\n",
      "  return np.add.reduce(sorted[indexer] * weights, axis=axis) / sumval\n"
     ]
    },
    {
     "data": {
      "text/plain": [
       "<matplotlib.axes._subplots.AxesSubplot at 0x7f999249fc18>"
      ]
     },
     "execution_count": 36,
     "metadata": {},
     "output_type": "execute_result"
    },
    {
     "data": {
      "image/png": "[encoded data removed]",
      "text/plain": [
       "<Figure size 432x288 with 1 Axes>"
      ]
     },
     "metadata": {
      "needs_background": "light"
     },
     "output_type": "display_data"
    }
   ],
   "source": [
    "import seaborn as sns\n",
    "f1_vals = list(f1s.values())\n",
    "sns.distplot(f1_vals)"
   ]
  },
  {
   "cell_type": "code",
   "execution_count": null,
   "metadata": {},
   "outputs": [],
   "source": []
  }
 ],
 "metadata": {
  "kernelspec": {
   "display_name": "Python 3",
   "language": "python",
   "name": "python3"
  },
  "language_info": {
   "codemirror_mode": {
    "name": "ipython",
    "version": 3
   },
   "file_extension": ".py",
   "mimetype": "text/x-python",
   "name": "python",
   "nbconvert_exporter": "python",
   "pygments_lexer": "ipython3",
   "version": "3.6.8"
  }
 },
 "nbformat": 4,
 "nbformat_minor": 2
}
