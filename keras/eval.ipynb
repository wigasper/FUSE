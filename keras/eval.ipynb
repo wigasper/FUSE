{
 "cells": [
  {
   "cell_type": "code",
   "execution_count": 5,
   "metadata": {},
   "outputs": [],
   "source": [
    "import json\n",
    "\n",
    "import tensorflow as tf\n",
    "from tensorflow import keras\n",
    "from tensorflow.keras.layers import Dense, Input, Dropout\n",
    "from tensorflow.keras.callbacks import EarlyStopping, ModelCheckpoint\n",
    "\n",
    "from numba import jit\n",
    "\n",
    "import numpy as np\n",
    "import model"
   ]
  },
  {
   "cell_type": "code",
   "execution_count": 2,
   "metadata": {},
   "outputs": [],
   "source": [
    "# Load in term frequencies and partition\n",
    "with open(\"../data/term_freqs_rev_3_all_terms.json\", \"r\") as handle:\n",
    "    temp = json.load(handle)\n",
    "\n",
    "docs_list = [\"21364592\", \"19432821\", \"21749731\"]\n",
    "    \n",
    "solution = {}\n",
    "with open(\"../data/pm_doc_term_counts.csv\", \"r\") as handle:\n",
    "    for line in handle:\n",
    "        line = line.strip(\"\\n\").split(\",\")\n",
    "        if line[0] in docs_list:\n",
    "            solution[line[0]] = line[1:]"
   ]
  },
  {
   "cell_type": "code",
   "execution_count": 4,
   "metadata": {},
   "outputs": [],
   "source": [
    "# built dataset\n",
    "uids = []\n",
    "term_names = {}\n",
    "with open(\"../data/mesh_data.tab\", \"r\") as handle:\n",
    "    for line in handle:\n",
    "        line = line.strip(\"\\n\").split(\"\\t\")\n",
    "        uids.append(line[0])\n",
    "        term_names[line[0]] = line[1]\n",
    "\n",
    "x = []\n",
    "y = []\n",
    "for doc in docs_list:\n",
    "    row = []\n",
    "    for uid in uids:\n",
    "        if uid in temp[doc].keys():\n",
    "            # truncate to save space\n",
    "            row.append(float(str(temp[doc][uid])[:6]))\n",
    "        else:\n",
    "            row.append(0)\n",
    "    row = np.array(row)\n",
    "    x.append(row)\n",
    "\n",
    "    row = []\n",
    "    for uid in uids:\n",
    "        if uid in solution[doc]:\n",
    "            row.append(1)\n",
    "        else:\n",
    "            row.append(0)\n",
    "    y.append(row)\n",
    "    \n",
    "x = np.array(x)\n",
    "y = np.array(y)"
   ]
  },
  {
   "cell_type": "code",
   "execution_count": 6,
   "metadata": {},
   "outputs": [],
   "source": [
    "weights_fp = \"weights.current_best.hdf5\"\n",
    "mod = model.get_model(1600)\n",
    "mod.load_weights(weights_fp)"
   ]
  },
  {
   "cell_type": "code",
   "execution_count": 7,
   "metadata": {},
   "outputs": [],
   "source": [
    "y_hat = mod.predict(x)"
   ]
  },
  {
   "cell_type": "code",
   "execution_count": 14,
   "metadata": {},
   "outputs": [],
   "source": [
    "threshold = 0.33\n",
    "#predictions = {}\n",
    "predictions = {doc:[] for doc in docs_list}\n",
    "#print(y_hat.shape[0])\n",
    "for row in range(y_hat.shape[0]):\n",
    "    predictions[docs_list[row]] = [uids[idx] for idx, val in enumerate(y_hat[row]) if val > threshold]\n",
    "    \n"
   ]
  },
  {
   "cell_type": "code",
   "execution_count": 18,
   "metadata": {},
   "outputs": [
    {
     "name": "stdout",
     "output_type": "stream",
     "text": [
      "21364592: Adult; Aged; Antimetabolites, Antineoplastic; Antineoplastic Combined Chemotherapy Protocols; Aryl Hydrocarbon Hydroxylases; Carcinoma, Non-Small-Cell Lung; China; Drug Combinations; Female; Fluorouracil; Tegafur; Genotype; Humans; Male; Middle Aged; Oxonic Acid; Polymorphism, Genetic; Stomach Neoplasms; Treatment Outcome; Polymorphism, Single Nucleotide; Asian Continental Ancestry Group; Cytochrome P-450 CYP2A6\n",
      "\n",
      "19432821: Adenocarcinoma; Aged; Animals; Cell Movement; Cytoskeletal Proteins; Female; Humans; Immunohistochemistry; Male; Microfilament Proteins; Middle Aged; Neoplasm Invasiveness; Neoplasm Transplantation; Pancreatic Neoplasms; Prognosis; Biomarkers, Tumor; Homeodomain Proteins; Carcinoma, Pancreatic Ductal; RNA, Small Interfering; Cell Line, Tumor; Mice\n",
      "\n",
      "21749731: Amino Acid Sequence; Binding Sites; Enzyme Stability; Escherichia coli; Glucose; Kinetics; Ligands; Models, Molecular; Protein Binding; Protein Structure, Tertiary; Dimerization; Catalytic Domain; Biocatalysis\n",
      "\n"
     ]
    }
   ],
   "source": [
    "for doc in predictions:\n",
    "    preds = \"; \".join([term_names[uid] for uid in predictions[doc]])\n",
    "    print(f\"{doc}: {preds}\\n\")"
   ]
  },
  {
   "cell_type": "code",
   "execution_count": null,
   "metadata": {},
   "outputs": [],
   "source": [
    "@jit\n",
    "def count_metrics(y, y_hat, threshold):\n",
    "    true_pos = 0\n",
    "    false_pos = 0\n",
    "    false_neg = 0\n",
    "\n",
    "    n_cols = len(y[0])\n",
    "    n_rows = len(y)\n",
    "\n",
    "    for row in range(n_rows):\n",
    "        for col in range(n_cols):\n",
    "            y_hat_val = y_hat[row][col]\n",
    "            y_val = y[row][col]\n",
    "            \n",
    "            if y_hat_val > threshold and y_val == 1.0:\n",
    "                true_pos += 1\n",
    "            elif y_hat_val <= threshold and y_val == 1.0:\n",
    "                false_neg += 1\n",
    "            elif y_hat_val > threshold and y_val == 0.0:\n",
    "                false_pos += 1\n",
    "            \n",
    "    return true_pos, false_pos, false_neg\n",
    "\n",
    "def test(weights_fp, logger, threshold, mod):\n",
    "    mod.load_weights(weights_fp)\n",
    "\n",
    "    test_ids = []\n",
    "    with open(\"test_ids\", \"r\") as handle:\n",
    "        for line in handle:\n",
    "            test_ids.append(line.strip(\"\\n\"))\n",
    "\n",
    "    true_pos = 0\n",
    "    false_pos = 0\n",
    "    false_neg = 0\n",
    "    \n",
    "    batch_size = 16\n",
    "    test_gen = DataGen(test_ids, batch_size)\n",
    "\n",
    "    for batch in tqdm(test_gen):\n",
    "        x = batch[0]\n",
    "        y = batch[1]\n",
    "\n",
    "        y_hat = mod.predict_on_batch(x)\n",
    "        \n",
    "        tp_temp, fp_temp, fn_temp = count_metrics(y, y_hat, threshold)\n",
    "        true_pos += tp_temp\n",
    "        false_pos += fp_temp\n",
    "        false_neg += fn_temp\n",
    "           \n",
    "    if true_pos > 0:\n",
    "        precision = true_pos / (true_pos + false_pos)\n",
    "        recall = true_pos / (true_pos + false_neg)\n",
    "        f1 = (2 * precision * recall) / (precision + recall)\n",
    "    else:\n",
    "        f1 = 0"
   ]
  }
 ],
 "metadata": {
  "kernelspec": {
   "display_name": "Python 3",
   "language": "python",
   "name": "python3"
  },
  "language_info": {
   "codemirror_mode": {
    "name": "ipython",
    "version": 3
   },
   "file_extension": ".py",
   "mimetype": "text/x-python",
   "name": "python",
   "nbconvert_exporter": "python",
   "pygments_lexer": "ipython3",
   "version": "3.7.6"
  }
 },
 "nbformat": 4,
 "nbformat_minor": 4
}
