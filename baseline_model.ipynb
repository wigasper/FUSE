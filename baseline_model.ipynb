{
 "cells": [
  {
   "cell_type": "markdown",
   "metadata": {},
   "source": [
    "# Baseline Model\n",
    "\n",
    "This is a simple baseline model that uses the relative frequency of a MeSH term's occurrence in a document's references in order to decide whether to apply that particular MeSH term to the document. MeSH term counts (and consequently relative frequencies) were determined by mining PMC full-texts to extract as many of a particular document's references as possible. MeSH terms were then counted for each of these references, summed, and divided by the total to give the relative frequency that each term was applied to the original document's references. This is all detailed in the notebook [data_aggregation_pipeline.ipynb](https://github.com/wigasper/FUSE/blob/master/data_aggregation_pipeline.ipynb), or in the original Python files in the [data-aggregation directory](https://github.com/wigasper/FUSE/tree/master/data-aggregation).\n",
    "\n",
    "For the model, I selected a series of threshold values starting at 0 and increasing up to 1. For each threshold, for each document in the dataset, if a term's frequency among the document's references exceeds the threshold, I predict that the term will be applied to the document.\n",
    "\n",
    "This model serves as a basis for evaluation for future, more complex, models.\n",
    "\n",
    "Throughout this process I've utilized lists and dictionaries as my primary data structures, and stored them on disk as JSON formatted files. This, in general, has turned out to be a good decision. A lot of this process requires millions of lookups on what would otherwise be an extremely large, sparse table. Using dictionaries rather than a matrix or Pandas DF speeds up this process immensely - this simple model takes less than a minute to run (faster than it takes just to load in the data using Pandas) and scales efficiently. It also takes up significantly less space on disk: the JSON file for the term frequency data is 83.5 MB, while storing as table in csv format takes up 448.8 MB. "
   ]
  },
  {
   "cell_type": "code",
   "execution_count": 1,
   "metadata": {},
   "outputs": [],
   "source": [
    "import json\n",
    "\n",
    "from sklearn.metrics import auc\n",
    "from matplotlib import pyplot\n",
    "\n",
    "# Load in term frequencies\n",
    "with open(\"./data/term_freqs.json\", \"r\") as handle:\n",
    "    term_freqs = json.load(handle)\n",
    "\n",
    "# Load in solution values\n",
    "with open(\"./data/baseline_solution.json\", \"r\") as handle:\n",
    "    solution = json.load(handle)\n",
    "\n",
    "# Get max freq for docs with more than 10 terms applied to their citations\n",
    "max_freq = 0\n",
    "for doc in term_freqs:\n",
    "    for term in doc[1]:\n",
    "        if len(doc[1]) > 10 and doc[1][term] > max_freq:\n",
    "            max_freq = doc[1][term]\n",
    "\n",
    "# Divide values by max\n",
    "for doc in term_freqs:\n",
    "    for term in doc[1]:\n",
    "        doc[1][term] = doc[1][term] / max_freq\n",
    "\n",
    "# Dict to store predictions and lists to store evaluation metrics\n",
    "predictions = {}\n",
    "precisions = []\n",
    "recalls = []\n",
    "f1s = []"
   ]
  },
  {
   "cell_type": "markdown",
   "metadata": {},
   "source": [
    "Next I generate a list of thresholds to test, starting at 0 and going to 1 in increments of .005."
   ]
  },
  {
   "cell_type": "code",
   "execution_count": 2,
   "metadata": {},
   "outputs": [],
   "source": [
    "thresholds = [x * .005 for x in range(0,200)]"
   ]
  },
  {
   "cell_type": "markdown",
   "metadata": {},
   "source": [
    "Run the model for all thresholds, calculate evaluation metrics as each threshold is tested and record."
   ]
  },
  {
   "cell_type": "code",
   "execution_count": 3,
   "metadata": {},
   "outputs": [],
   "source": [
    "# Run the model for all thresholds\n",
    "for thresh in thresholds:\n",
    "    # Predict\n",
    "    for doc in term_freqs:\n",
    "        predictions[doc[0]] = [key for key, val in doc[1].items() if val > thresh]\n",
    "        \n",
    "    # Get evaluation metrics\n",
    "    true_pos = 0\n",
    "    false_pos = 0\n",
    "    false_neg = 0\n",
    "    \n",
    "    for pmid in predictions:\n",
    "        true_pos += len([pred for pred in predictions[pmid] if pred in solution[pmid]])\n",
    "        false_pos += len([pred for pred in predictions[pmid] if pred not in solution[pmid]])\n",
    "        false_neg += len([sol for sol in solution[pmid] if sol not in predictions[pmid]])\n",
    "\n",
    "    # Avoid a ZeroDivisionError if precision and recall are both 0\n",
    "    if true_pos == 0:\n",
    "        precision = 0\n",
    "        recall = 0\n",
    "        f1 = 0\n",
    "    else:\n",
    "        precision = true_pos / (true_pos + false_pos)\n",
    "        recall = true_pos / (true_pos + false_neg)\n",
    "        f1 = (2 * precision * recall) / (precision + recall)\n",
    "    \n",
    "    precisions.append(precision)\n",
    "    recalls.append(recall)\n",
    "    f1s.append(f1)"
   ]
  },
  {
   "cell_type": "code",
   "execution_count": 4,
   "metadata": {},
   "outputs": [
    {
     "name": "stdout",
     "output_type": "stream",
     "text": [
      "AUC:  0.397099326235261\n"
     ]
    }
   ],
   "source": [
    "# Calculate AUC\n",
    "print(\"AUC: \", auc(recalls, precisions))"
   ]
  },
  {
   "cell_type": "code",
   "execution_count": 5,
   "metadata": {},
   "outputs": [
    {
     "data": {
      "image/png": "[encoded data removed]",
      "text/plain": [
       "<Figure size 432x288 with 1 Axes>"
      ]
     },
     "metadata": {
      "needs_background": "light"
     },
     "output_type": "display_data"
    }
   ],
   "source": [
    "# Plot PR curve\n",
    "pyplot.plot([0, 1], [0.5, 0.5], linestyle=\"--\")\n",
    "pyplot.plot(recalls, precisions, marker=\".\")\n",
    "pyplot.savefig(\"../pr_curve.png\")\n",
    "pyplot.show()"
   ]
  },
  {
   "cell_type": "markdown",
   "metadata": {},
   "source": [
    "Unfortunately recall never hits 1.0 because documents often have terms applied to them that were not applied to any of their references. I try to improve on this in future models by incorporating semantic similarity of terms into the predictive process.\n",
    "\n",
    "Let's see what the highest F1 score is:"
   ]
  },
  {
   "cell_type": "code",
   "execution_count": 9,
   "metadata": {},
   "outputs": [
    {
     "name": "stdout",
     "output_type": "stream",
     "text": [
      "Max F1: 0.44529808415153654 at threshold: 0.09\n"
     ]
    }
   ],
   "source": [
    "print(\"Max F1:\", str(max(f1s)), \"at threshold:\", str(thresholds[f1s.index(max(f1s))]))"
   ]
  },
  {
   "cell_type": "code",
   "execution_count": null,
   "metadata": {},
   "outputs": [],
   "source": []
  }
 ],
 "metadata": {
  "kernelspec": {
   "display_name": "Python 3",
   "language": "python",
   "name": "python3"
  },
  "language_info": {
   "codemirror_mode": {
    "name": "ipython",
    "version": 3
   },
   "file_extension": ".py",
   "mimetype": "text/x-python",
   "name": "python",
   "nbconvert_exporter": "python",
   "pygments_lexer": "ipython3",
   "version": "3.6.8"
  }
 },
 "nbformat": 4,
 "nbformat_minor": 2
}
